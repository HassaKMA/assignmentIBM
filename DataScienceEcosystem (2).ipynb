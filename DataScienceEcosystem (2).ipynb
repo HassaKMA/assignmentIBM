{
 "cells": [
  {
   "cell_type": "markdown",
   "id": "d9497a17-3130-43c0-9d85-82d41e6c8419",
   "metadata": {
    "tags": []
   },
   "source": [
    "# Data Science Tools and Ecosystem"
   ]
  },
  {
   "cell_type": "markdown",
   "id": "24222abf-a76c-4725-ac8f-b0af72a92749",
   "metadata": {},
   "source": [
    "In this notebook, Data Science Tools and Ecosystem are summarized"
   ]
  },
  {
   "cell_type": "markdown",
   "id": "ce42a409-057d-461a-ad32-92ff18fa73c1",
   "metadata": {},
   "source": [
    "**objective:**\n",
    "- popular languages that Data Scientists\n",
    "- commonly used libraries used by Data Scientists\n",
    "- arithmetic expressions in Python\n"
   ]
  },
  {
   "cell_type": "markdown",
   "id": "946900a1-794b-4944-bef7-900898c243fa",
   "metadata": {},
   "source": [
    "Some of the popular languages that Data Scientists use are:"
   ]
  },
  {
   "cell_type": "markdown",
   "id": "f2984c8f-b9af-4137-8217-843d8a8e9d77",
   "metadata": {
    "tags": []
   },
   "source": [
    "1. python\n",
    "2. R\n",
    "3. SQL\n",
    "4. julia\n"
   ]
  },
  {
   "cell_type": "markdown",
   "id": "443200aa-298d-402e-b845-69476269517e",
   "metadata": {},
   "source": [
    "Some of the commonly used libraries used by Data Scientists include:"
   ]
  },
  {
   "cell_type": "markdown",
   "id": "fd5d67c3-63cf-4693-b4c0-4e3079bb6e72",
   "metadata": {},
   "source": [
    "1. NumPy.\n",
    "2. Keras.\n",
    "3. Pandas.\n"
   ]
  },
  {
   "cell_type": "markdown",
   "id": "a5a9b482-79ea-472b-ae09-bfeeaefd6cf6",
   "metadata": {},
   "source": [
    "| DATA SCIENCE TOOLS | \n",
    "|----------|\n",
    "| JUPYTER NOTEBOOK |\n",
    "| APACHE SPARK|\n",
    "| R-STUDIO |"
   ]
  },
  {
   "cell_type": "markdown",
   "id": "b98dc04e-b6d0-4ffb-9126-cc78f3e5307a",
   "metadata": {},
   "source": [
    "### Below are a few examples of evaluating arithmetic expressions in Python"
   ]
  },
  {
   "cell_type": "code",
   "execution_count": 3,
   "id": "6b6508c1-dd6b-4c4b-add2-2691420eb1d9",
   "metadata": {
    "tags": []
   },
   "outputs": [
    {
     "data": {
      "text/plain": [
       "17"
      ]
     },
     "execution_count": 3,
     "metadata": {},
     "output_type": "execute_result"
    }
   ],
   "source": [
    "(3*4)+5\n"
   ]
  },
  {
   "cell_type": "code",
   "execution_count": 7,
   "id": "58285fd2-49e3-451a-851b-1364462fb3ab",
   "metadata": {
    "tags": []
   },
   "outputs": [
    {
     "name": "stdout",
     "output_type": "stream",
     "text": [
      "3.3333333333333335 Hours\n"
     ]
    }
   ],
   "source": [
    "#### This will convert 200 minutes to hours by diving by 60\n",
    "x = (200/60)\n",
    "print(x,\"Hours\")"
   ]
  },
  {
   "cell_type": "markdown",
   "id": "3cd09f9f-287a-4843-ad7d-b005acb65ae9",
   "metadata": {},
   "source": [
    "## Author\n",
    "Hassan Albuainain"
   ]
  }
 ],
 "metadata": {
  "kernelspec": {
   "display_name": "Python",
   "language": "python",
   "name": "conda-env-python-py"
  },
  "language_info": {
   "codemirror_mode": {
    "name": "ipython",
    "version": 3
   },
   "file_extension": ".py",
   "mimetype": "text/x-python",
   "name": "python",
   "nbconvert_exporter": "python",
   "pygments_lexer": "ipython3",
   "version": "3.7.12"
  }
 },
 "nbformat": 4,
 "nbformat_minor": 5
}
